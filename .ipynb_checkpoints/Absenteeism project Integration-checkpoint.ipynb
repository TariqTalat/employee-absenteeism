{
 "cells": [
  {
   "cell_type": "code",
   "execution_count": 1,
   "id": "07dfceff",
   "metadata": {},
   "outputs": [],
   "source": [
    "from absenteeism_model import *"
   ]
  },
  {
   "cell_type": "code",
   "execution_count": 2,
   "id": "89e24608",
   "metadata": {},
   "outputs": [],
   "source": [
    "model= AbsenteeismModel('log_model.pkl')"
   ]
  },
  {
   "cell_type": "code",
   "execution_count": 27,
   "id": "ca211833",
   "metadata": {},
   "outputs": [
    {
     "data": {
      "text/html": [
       "<div>\n",
       "<style scoped>\n",
       "    .dataframe tbody tr th:only-of-type {\n",
       "        vertical-align: middle;\n",
       "    }\n",
       "\n",
       "    .dataframe tbody tr th {\n",
       "        vertical-align: top;\n",
       "    }\n",
       "\n",
       "    .dataframe thead th {\n",
       "        text-align: right;\n",
       "    }\n",
       "</style>\n",
       "<table border=\"1\" class=\"dataframe\">\n",
       "  <thead>\n",
       "    <tr style=\"text-align: right;\">\n",
       "      <th></th>\n",
       "      <th>Reason_1</th>\n",
       "      <th>Reason_2</th>\n",
       "      <th>Reason_3</th>\n",
       "      <th>Reason_4</th>\n",
       "      <th>Transportation Expense</th>\n",
       "      <th>Distance to Work</th>\n",
       "      <th>Age</th>\n",
       "      <th>Daily Work Load Average</th>\n",
       "      <th>Body Mass Index</th>\n",
       "      <th>Education</th>\n",
       "      <th>Children</th>\n",
       "      <th>Pets</th>\n",
       "      <th>Month</th>\n",
       "      <th>Day of the week</th>\n",
       "      <th>Prediction</th>\n",
       "      <th>Probability</th>\n",
       "    </tr>\n",
       "  </thead>\n",
       "  <tbody>\n",
       "    <tr>\n",
       "      <th>0</th>\n",
       "      <td>0</td>\n",
       "      <td>0.0</td>\n",
       "      <td>0</td>\n",
       "      <td>1</td>\n",
       "      <td>179</td>\n",
       "      <td>26</td>\n",
       "      <td>30</td>\n",
       "      <td>237.656</td>\n",
       "      <td>19</td>\n",
       "      <td>1</td>\n",
       "      <td>0</td>\n",
       "      <td>0</td>\n",
       "      <td>6</td>\n",
       "      <td>4</td>\n",
       "      <td>0</td>\n",
       "      <td>0.100677</td>\n",
       "    </tr>\n",
       "    <tr>\n",
       "      <th>1</th>\n",
       "      <td>1</td>\n",
       "      <td>0.0</td>\n",
       "      <td>0</td>\n",
       "      <td>0</td>\n",
       "      <td>361</td>\n",
       "      <td>52</td>\n",
       "      <td>28</td>\n",
       "      <td>237.656</td>\n",
       "      <td>27</td>\n",
       "      <td>0</td>\n",
       "      <td>1</td>\n",
       "      <td>4</td>\n",
       "      <td>6</td>\n",
       "      <td>0</td>\n",
       "      <td>1</td>\n",
       "      <td>0.938549</td>\n",
       "    </tr>\n",
       "    <tr>\n",
       "      <th>2</th>\n",
       "      <td>0</td>\n",
       "      <td>0.0</td>\n",
       "      <td>0</td>\n",
       "      <td>1</td>\n",
       "      <td>155</td>\n",
       "      <td>12</td>\n",
       "      <td>34</td>\n",
       "      <td>237.656</td>\n",
       "      <td>25</td>\n",
       "      <td>0</td>\n",
       "      <td>2</td>\n",
       "      <td>0</td>\n",
       "      <td>6</td>\n",
       "      <td>2</td>\n",
       "      <td>0</td>\n",
       "      <td>0.343572</td>\n",
       "    </tr>\n",
       "    <tr>\n",
       "      <th>3</th>\n",
       "      <td>0</td>\n",
       "      <td>0.0</td>\n",
       "      <td>0</td>\n",
       "      <td>1</td>\n",
       "      <td>179</td>\n",
       "      <td>22</td>\n",
       "      <td>40</td>\n",
       "      <td>237.656</td>\n",
       "      <td>22</td>\n",
       "      <td>1</td>\n",
       "      <td>2</td>\n",
       "      <td>0</td>\n",
       "      <td>6</td>\n",
       "      <td>4</td>\n",
       "      <td>0</td>\n",
       "      <td>0.219475</td>\n",
       "    </tr>\n",
       "    <tr>\n",
       "      <th>4</th>\n",
       "      <td>1</td>\n",
       "      <td>0.0</td>\n",
       "      <td>0</td>\n",
       "      <td>0</td>\n",
       "      <td>155</td>\n",
       "      <td>12</td>\n",
       "      <td>34</td>\n",
       "      <td>237.656</td>\n",
       "      <td>25</td>\n",
       "      <td>0</td>\n",
       "      <td>2</td>\n",
       "      <td>0</td>\n",
       "      <td>6</td>\n",
       "      <td>4</td>\n",
       "      <td>1</td>\n",
       "      <td>0.793434</td>\n",
       "    </tr>\n",
       "  </tbody>\n",
       "</table>\n",
       "</div>"
      ],
      "text/plain": [
       "   Reason_1  Reason_2  Reason_3  Reason_4  Transportation Expense  \\\n",
       "0         0       0.0         0         1                     179   \n",
       "1         1       0.0         0         0                     361   \n",
       "2         0       0.0         0         1                     155   \n",
       "3         0       0.0         0         1                     179   \n",
       "4         1       0.0         0         0                     155   \n",
       "\n",
       "   Distance to Work  Age  Daily Work Load Average  Body Mass Index  Education  \\\n",
       "0                26   30                  237.656               19          1   \n",
       "1                52   28                  237.656               27          0   \n",
       "2                12   34                  237.656               25          0   \n",
       "3                22   40                  237.656               22          1   \n",
       "4                12   34                  237.656               25          0   \n",
       "\n",
       "   Children  Pets  Month  Day of the week  Prediction  Probability  \n",
       "0         0     0      6                4           0     0.100677  \n",
       "1         1     4      6                0           1     0.938549  \n",
       "2         2     0      6                2           0     0.343572  \n",
       "3         2     0      6                4           0     0.219475  \n",
       "4         2     0      6                4           1     0.793434  "
      ]
     },
     "execution_count": 27,
     "metadata": {},
     "output_type": "execute_result"
    }
   ],
   "source": [
    "# Clean the data (without scaling)\n",
    "cleaned_data = model.preprocess_data('Absenteeism_new_data.csv')\n",
    "# Now final_data has the columns: 'Prediction' and 'Probability'\n",
    "new_obs = model.add_predictions(cleaned_data)\n",
    "new_obs.head(5)"
   ]
  },
  {
   "cell_type": "code",
   "execution_count": 7,
   "id": "2c746896",
   "metadata": {},
   "outputs": [
    {
     "name": "stdout",
     "output_type": "stream",
     "text": [
      "['SQL Server', 'Microsoft Access Driver (*.mdb, *.accdb)', 'Microsoft Excel Driver (*.xls, *.xlsx, *.xlsm, *.xlsb)', 'Microsoft Access Text Driver (*.txt, *.csv)', 'Microsoft Access dBASE Driver (*.dbf, *.ndx, *.mdx)', 'ODBC Driver 17 for SQL Server']\n"
     ]
    }
   ],
   "source": [
    "import pyodbc\n",
    "print(pyodbc.drivers())"
   ]
  },
  {
   "cell_type": "code",
   "execution_count": 69,
   "id": "a66a9def",
   "metadata": {},
   "outputs": [],
   "source": [
    "import pyodbc\n",
    "\n",
    "# Define connection parameters\n",
    "server = r'TARIQ-PC\\SQLEXPRESS04'  \n",
    "database = 'Predicted_outputs'    \n",
    "\n",
    "# Connection string using Windows Authentication\n",
    "conn_str = f'DRIVER={{ODBC Driver 17 for SQL Server}};SERVER={server};DATABASE={database};Trusted_Connection=yes;'\n",
    "conn = pyodbc.connect(conn_str)\n",
    "cursor = conn.cursor()"
   ]
  },
  {
   "cell_type": "code",
   "execution_count": 59,
   "id": "790c51ce",
   "metadata": {},
   "outputs": [],
   "source": [
    "'''cursor.execute(\"SELECT * FROM AbsenteeismData;\")\n",
    "rows = cursor.fetchall()\n",
    "\n",
    "# Print each row\n",
    "for row in rows:\n",
    "    print(row)\n",
    "# No data'''"
   ]
  },
  {
   "cell_type": "code",
   "execution_count": 70,
   "id": "9a578cf9",
   "metadata": {},
   "outputs": [],
   "source": [
    "# Creating the insert statement \n",
    "insert_query = 'INSERT INTO dbo.AbsenteeismData Values '"
   ]
  },
  {
   "cell_type": "code",
   "execution_count": 71,
   "id": "7ce58a44",
   "metadata": {},
   "outputs": [
    {
     "data": {
      "text/plain": [
       "'INSERT INTO dbo.AbsenteeismData Values '"
      ]
     },
     "execution_count": 71,
     "metadata": {},
     "output_type": "execute_result"
    }
   ],
   "source": [
    "insert_query"
   ]
  },
  {
   "cell_type": "code",
   "execution_count": 72,
   "id": "fa1c5f45",
   "metadata": {},
   "outputs": [
    {
     "name": "stdout",
     "output_type": "stream",
     "text": [
      "INSERT INTO dbo.AbsenteeismData Values (0, 0.0, 0, 1, 179, 26, 30, 237.656, 19, 1, 0, 0, 6, 4, 0, 0.10067716376776627), (1, 0.0, 0, 0, 361, 52, 28, 237.656, 27, 0, 1, 4, 6, 0, 1, 0.9385485910582264), (0, 0.0, 0, 1, 155, 12, 34, 237.656, 25, 0, 2, 0, 6, 2, 0, 0.34357218070345624), (0, 0.0, 0, 1, 179, 22, 40, 237.656, 22, 1, 2, 0, 6, 4, 0, 0.21947509191646963), (1, 0.0, 0, 0, 155, 12, 34, 237.656, 25, 0, 2, 0, 6, 4, 1, 0.7934337630231165), (1, 0.0, 0, 0, 225, 26, 28, 237.656, 24, 0, 1, 2, 6, 0, 1, 0.823725507167305), (1, 0.0, 0, 0, 118, 15, 46, 275.089, 25, 0, 2, 0, 6, 2, 1, 0.6825027546094742), (0, 0.0, 0, 1, 179, 26, 30, 275.089, 19, 1, 0, 0, 6, 2, 0, 0.10956237723554366), (0, 0.0, 0, 1, 118, 10, 37, 275.089, 28, 0, 0, 0, 6, 4, 0, 0.1255855224924092), (1, 0.0, 0, 0, 118, 10, 37, 275.089, 28, 0, 0, 0, 6, 2, 1, 0.5664767926691083), (0, 0.0, 0, 1, 378, 49, 36, 275.089, 21, 0, 2, 4, 6, 3, 1, 0.6163272097472471), (0, 0.0, 1, 0, 118, 13, 50, 275.089, 31, 0, 1, 0, 6, 3, 1, 0.7662378476793834), (0, 0.0, 1, 0, 233, 51, 31, 275.089, 21, 1, 1, 8, 6, 4, 1, 0.6311805899617088), (0, 0.0, 0, 1, 179, 26, 30, 275.089, 19, 1, 0, 0, 6, 4, 0, 0.09951134303780154), (0, 0.0, 0, 0, 235, 29, 48, 275.089, 33, 0, 1, 5, 6, 0, 0, 0.024447369009050177), (0, 0.0, 0, 0, 268, 11, 33, 275.089, 25, 1, 0, 0, 6, 3, 0, 0.021128413539946416), (0, 0.0, 1, 0, 118, 13, 50, 275.089, 31, 0, 1, 0, 6, 3, 1, 0.7662378476793834), (1, 0.0, 0, 0, 179, 26, 30, 275.089, 19, 1, 0, 0, 6, 3, 0, 0.4879195782689421), (0, 0.0, 0, 1, 291, 31, 40, 275.089, 25, 0, 1, 1, 6, 3, 0, 0.4442350197382447), (1, 0.0, 0, 0, 179, 26, 30, 275.089, 19, 1, 0, 0, 7, 0, 1, 0.6207974487186491), (0, 0.0, 0, 1, 118, 10, 37, 275.089, 28, 0, 0, 0, 7, 0, 0, 0.20659415667858533), (0, 0.0, 0, 1, 233, 51, 31, 275.089, 21, 1, 1, 8, 7, 3, 0, 0.14695676925679693), (1, 0.0, 0, 0, 118, 10, 37, 275.089, 28, 0, 0, 0, 7, 4, 1, 0.6318447378490765), (1, 0.0, 0, 0, 118, 10, 37, 275.089, 28, 0, 0, 0, 7, 2, 1, 0.6564662353235496), (0, 0.0, 0, 1, 233, 51, 31, 275.089, 21, 1, 1, 8, 7, 2, 0, 0.1538200917408298), (0, 0.0, 0, 1, 235, 20, 43, 264.604, 38, 0, 1, 0, 7, 2, 1, 0.6620326463113635), (0, 0.0, 1, 0, 233, 51, 31, 264.604, 21, 1, 1, 8, 7, 4, 1, 0.7152468922740102), (1, 0.0, 0, 0, 228, 14, 58, 264.604, 22, 0, 2, 1, 7, 0, 1, 0.8414915376809174), (0, 0.0, 0, 1, 118, 10, 37, 264.604, 28, 0, 0, 0, 7, 0, 0, 0.20718902244792106), (1, 0.0, 0, 0, 228, 14, 58, 264.604, 22, 0, 2, 1, 7, 1, 1, 0.8341935790693638), (0, 0.0, 0, 1, 189, 29, 33, 264.604, 25, 0, 2, 2, 7, 1, 0, 0.4555971873858311), (0, 0.0, 0, 1, 118, 10, 37, 264.604, 28, 0, 0, 0, 7, 2, 0, 0.19009388983964312), (0, 0.0, 0, 1, 361, 52, 28, 264.604, 27, 0, 1, 4, 7, 2, 1, 0.7086439362569573), (0, 0.0, 0, 1, 225, 26, 28, 264.604, 24, 0, 1, 2, 7, 2, 0, 0.426661380252057), (1, 0.0, 0, 0, 369, 17, 31, 264.604, 25, 0, 3, 0, 7, 0, 1, 0.9893498843319493), (1, 0.0, 0, 0, 289, 36, 33, 264.604, 30, 0, 2, 1, 7, 1, 1, 0.9658911274199584), (1, 0.0, 0, 0, 235, 11, 37, 264.604, 29, 1, 1, 1, 7, 1, 1, 0.8698054313741715), (0, 0.0, 0, 0, 118, 14, 40, 271.219, 34, 0, 1, 8, 7, 1, 0, 0.010482234329605282), (0, 0.0, 0, 0, 231, 35, 39, 271.219, 35, 0, 2, 2, 7, 2, 0, 0.0967947934689056), (0, 0.0, 0, 0, 179, 45, 53, 271.219, 25, 0, 1, 1, 7, 4, 0, 0.013579112320213242);\n"
     ]
    }
   ],
   "source": [
    "for i in range(new_obs.shape[0]):\n",
    "    insert_query += '('\n",
    "    \n",
    "    for j in range(new_obs.shape[1]):\n",
    "        insert_query += str(new_obs[new_obs.columns.values[j]][i]) + ', '\n",
    "    \n",
    "    insert_query = insert_query.rstrip(', ')  # Remove the last comma and space\n",
    "    insert_query += '), '  # Add the closing parenthesis and comma after each row\n",
    "\n",
    "# Remove the trailing comma and space at the end of the query\n",
    "insert_query = insert_query.rstrip(', ') + ';'\n",
    "\n",
    "print(insert_query)"
   ]
  },
  {
   "cell_type": "code",
   "execution_count": 73,
   "id": "b8ddc389",
   "metadata": {},
   "outputs": [
    {
     "data": {
      "text/plain": [
       "<pyodbc.Cursor at 0x16f07597630>"
      ]
     },
     "execution_count": 73,
     "metadata": {},
     "output_type": "execute_result"
    }
   ],
   "source": [
    "cursor.execute(insert_query)"
   ]
  },
  {
   "cell_type": "code",
   "execution_count": 75,
   "id": "e66b0559",
   "metadata": {},
   "outputs": [],
   "source": [
    "conn.commit()"
   ]
  },
  {
   "cell_type": "code",
   "execution_count": 76,
   "id": "e52ca7b9",
   "metadata": {},
   "outputs": [
    {
     "name": "stdout",
     "output_type": "stream",
     "text": [
      "(False, False, False, True, 179, 26, 30, 237.656, 19, 1, 0, 0, 6, 4, 0, 0.10067716376776627)\n",
      "(True, False, False, False, 361, 52, 28, 237.656, 27, 0, 1, 4, 6, 0, 1, 0.9385485910582264)\n",
      "(False, False, False, True, 155, 12, 34, 237.656, 25, 0, 2, 0, 6, 2, 0, 0.34357218070345624)\n",
      "(False, False, False, True, 179, 22, 40, 237.656, 22, 1, 2, 0, 6, 4, 0, 0.21947509191646963)\n",
      "(True, False, False, False, 155, 12, 34, 237.656, 25, 0, 2, 0, 6, 4, 1, 0.7934337630231165)\n",
      "(True, False, False, False, 225, 26, 28, 237.656, 24, 0, 1, 2, 6, 0, 1, 0.823725507167305)\n",
      "(True, False, False, False, 118, 15, 46, 275.089, 25, 0, 2, 0, 6, 2, 1, 0.6825027546094742)\n",
      "(False, False, False, True, 179, 26, 30, 275.089, 19, 1, 0, 0, 6, 2, 0, 0.10956237723554366)\n",
      "(False, False, False, True, 118, 10, 37, 275.089, 28, 0, 0, 0, 6, 4, 0, 0.1255855224924092)\n",
      "(True, False, False, False, 118, 10, 37, 275.089, 28, 0, 0, 0, 6, 2, 1, 0.5664767926691083)\n",
      "(False, False, False, True, 378, 49, 36, 275.089, 21, 0, 2, 4, 6, 3, 1, 0.6163272097472471)\n",
      "(False, False, True, False, 118, 13, 50, 275.089, 31, 0, 1, 0, 6, 3, 1, 0.7662378476793834)\n",
      "(False, False, True, False, 233, 51, 31, 275.089, 21, 1, 1, 8, 6, 4, 1, 0.6311805899617088)\n",
      "(False, False, False, True, 179, 26, 30, 275.089, 19, 1, 0, 0, 6, 4, 0, 0.09951134303780154)\n",
      "(False, False, False, False, 235, 29, 48, 275.089, 33, 0, 1, 5, 6, 0, 0, 0.024447369009050177)\n",
      "(False, False, False, False, 268, 11, 33, 275.089, 25, 1, 0, 0, 6, 3, 0, 0.021128413539946416)\n",
      "(False, False, True, False, 118, 13, 50, 275.089, 31, 0, 1, 0, 6, 3, 1, 0.7662378476793834)\n",
      "(True, False, False, False, 179, 26, 30, 275.089, 19, 1, 0, 0, 6, 3, 0, 0.4879195782689421)\n",
      "(False, False, False, True, 291, 31, 40, 275.089, 25, 0, 1, 1, 6, 3, 0, 0.4442350197382447)\n",
      "(True, False, False, False, 179, 26, 30, 275.089, 19, 1, 0, 0, 7, 0, 1, 0.6207974487186491)\n",
      "(False, False, False, True, 118, 10, 37, 275.089, 28, 0, 0, 0, 7, 0, 0, 0.20659415667858533)\n",
      "(False, False, False, True, 233, 51, 31, 275.089, 21, 1, 1, 8, 7, 3, 0, 0.14695676925679693)\n",
      "(True, False, False, False, 118, 10, 37, 275.089, 28, 0, 0, 0, 7, 4, 1, 0.6318447378490765)\n",
      "(True, False, False, False, 118, 10, 37, 275.089, 28, 0, 0, 0, 7, 2, 1, 0.6564662353235496)\n",
      "(False, False, False, True, 233, 51, 31, 275.089, 21, 1, 1, 8, 7, 2, 0, 0.1538200917408298)\n",
      "(False, False, False, True, 235, 20, 43, 264.604, 38, 0, 1, 0, 7, 2, 1, 0.6620326463113635)\n",
      "(False, False, True, False, 233, 51, 31, 264.604, 21, 1, 1, 8, 7, 4, 1, 0.7152468922740102)\n",
      "(True, False, False, False, 228, 14, 58, 264.604, 22, 0, 2, 1, 7, 0, 1, 0.8414915376809174)\n",
      "(False, False, False, True, 118, 10, 37, 264.604, 28, 0, 0, 0, 7, 0, 0, 0.20718902244792106)\n",
      "(True, False, False, False, 228, 14, 58, 264.604, 22, 0, 2, 1, 7, 1, 1, 0.8341935790693638)\n",
      "(False, False, False, True, 189, 29, 33, 264.604, 25, 0, 2, 2, 7, 1, 0, 0.4555971873858311)\n",
      "(False, False, False, True, 118, 10, 37, 264.604, 28, 0, 0, 0, 7, 2, 0, 0.19009388983964312)\n",
      "(False, False, False, True, 361, 52, 28, 264.604, 27, 0, 1, 4, 7, 2, 1, 0.7086439362569573)\n",
      "(False, False, False, True, 225, 26, 28, 264.604, 24, 0, 1, 2, 7, 2, 0, 0.426661380252057)\n",
      "(True, False, False, False, 369, 17, 31, 264.604, 25, 0, 3, 0, 7, 0, 1, 0.9893498843319493)\n",
      "(True, False, False, False, 289, 36, 33, 264.604, 30, 0, 2, 1, 7, 1, 1, 0.9658911274199584)\n",
      "(True, False, False, False, 235, 11, 37, 264.604, 29, 1, 1, 1, 7, 1, 1, 0.8698054313741715)\n",
      "(False, False, False, False, 118, 14, 40, 271.219, 34, 0, 1, 8, 7, 1, 0, 0.010482234329605282)\n",
      "(False, False, False, False, 231, 35, 39, 271.219, 35, 0, 2, 2, 7, 2, 0, 0.0967947934689056)\n",
      "(False, False, False, False, 179, 45, 53, 271.219, 25, 0, 1, 1, 7, 4, 0, 0.013579112320213242)\n"
     ]
    }
   ],
   "source": [
    "cursor.execute(\"SELECT * FROM AbsenteeismData;\")\n",
    "rows = cursor.fetchall()\n",
    "\n",
    "# Print each row\n",
    "for row in rows:\n",
    "    print(row)"
   ]
  },
  {
   "cell_type": "code",
   "execution_count": 77,
   "id": "3696251b",
   "metadata": {},
   "outputs": [],
   "source": [
    "conn.close()"
   ]
  },
  {
   "cell_type": "code",
   "execution_count": null,
   "id": "957d8711",
   "metadata": {},
   "outputs": [],
   "source": []
  }
 ],
 "metadata": {
  "kernelspec": {
   "display_name": "Python 3 (ipykernel)",
   "language": "python",
   "name": "python3"
  },
  "language_info": {
   "codemirror_mode": {
    "name": "ipython",
    "version": 3
   },
   "file_extension": ".py",
   "mimetype": "text/x-python",
   "name": "python",
   "nbconvert_exporter": "python",
   "pygments_lexer": "ipython3",
   "version": "3.11.4"
  }
 },
 "nbformat": 4,
 "nbformat_minor": 5
}
